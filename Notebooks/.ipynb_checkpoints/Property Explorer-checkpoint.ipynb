{
 "cells": [
  {
   "cell_type": "code",
   "execution_count": null,
   "id": "ed1102bf",
   "metadata": {},
   "outputs": [],
   "source": [
    "%%html\n",
    "<script>\n",
    "    // AUTORUN ALL CELLS ON NOTEBOOK-LOAD!\n",
    "    require(\n",
    "        ['base/js/namespace', 'jquery'], \n",
    "        function(jupyter, $) {\n",
    "            $(jupyter.events).on(\"kernel_ready.Kernel\", function () {\n",
    "                console.log(\"Auto-running all cells-below...\");\n",
    "                jupyter.actions.call('jupyter-notebook:run-all-cells-below');\n",
    "                jupyter.actions.call('jupyter-notebook:save-notebook');\n",
    "            });\n",
    "        }\n",
    "    );\n",
    "</script>"
   ]
  },
  {
   "cell_type": "code",
   "execution_count": null,
   "id": "3b474d74",
   "metadata": {
    "scrolled": true
   },
   "outputs": [],
   "source": [
    "from IPython.display import HTML, Javascript, display\n",
    "from ipywidgets import widgets\n",
    "\n",
    "HTML('''<script>\n",
    "code_show=true; \n",
    "function code_toggle() {\n",
    " if (code_show){\n",
    " $('div.input').hide();\n",
    " } else {\n",
    " $('div.input').show();\n",
    " }\n",
    " code_show = !code_show\n",
    "} \n",
    "$( document ).ready(code_toggle);\n",
    "</script>\n",
    "<form action=\"javascript:code_toggle();\"><input type=\"submit\" value=\"Click here to toggle on/off the raw code.\"></form>''')"
   ]
  },
  {
   "cell_type": "code",
   "execution_count": null,
   "id": "bebb7bfe",
   "metadata": {},
   "outputs": [],
   "source": [
    "%%capture\n",
    "cd .."
   ]
  },
  {
   "cell_type": "code",
   "execution_count": null,
   "id": "8655f312",
   "metadata": {
    "scrolled": true
   },
   "outputs": [],
   "source": [
    "%load_ext autoreload\n",
    "%autoreload 2\n",
    "\n",
    "import dill\n",
    "import matplotlib.pyplot as plt\n",
    "\n",
    "from dreamcoder.domains.list.handwrittenProperties import handWrittenProperties, getHandwrittenPropertiesFromTemplates\n",
    "from dreamcoder.domains.list.makeListTasks import joshTasks\n",
    "from dreamcoder.domains.list.propSim import getPropertySimTasksMatrix, getPriorDistributionsOfProperties, createSimilarTasksDf\n",
    "\n",
    "\n",
    "# Load relevant tasks, properties and helmholtz frontiers\n",
    "tasks = joshTasks(\"final\")\n",
    "properties = getHandwrittenPropertiesFromTemplates(tasks, filterEquivalent=False)\n",
    "fileName = \"data/prop_sig/helmholtz_frontiers/josh_rich_enumerated_1/enumerated_0_10000.pkl\"\n",
    "helmholtzFrontiers = dill.load(open(fileName, \"rb\"))[:100]\n",
    "valuesToInt = {\"allFalse\":0, \"allTrue\":1, \"mixed\":2}\n",
    "\n",
    "# Compute prior probabilities (over tasks) for property values\n",
    "taskPropertyMatrix = getPropertySimTasksMatrix(tasks, properties, valuesToInt)\n",
    "helmholtzTasksPropertyMatrix = getPropertySimTasksMatrix([f.task for f in helmholtzFrontiers], properties, valuesToInt)\n",
    "propertyToPriorDistribution = getPriorDistributionsOfProperties(properties, taskPropertyMatrix, valuesToInt)"
   ]
  },
  {
   "cell_type": "code",
   "execution_count": null,
   "id": "d1439d40",
   "metadata": {
    "scrolled": true
   },
   "outputs": [],
   "source": [
    "taskDropdown = widgets.Dropdown(\n",
    "    options=[t.name for t in tasks],\n",
    "    value=tasks[0].name,\n",
    "    description='Task:',\n",
    "    disabled=False,\n",
    ")\n",
    "\n",
    "def run_all(ev):\n",
    "    display(Javascript('IPython.notebook.execute_cell_range(IPython.notebook.get_selected_index()+1,IPython.notebook.get_selected_index()+2)'))\n",
    "taskDropdown.observe(run_all, names=\"value\")\n",
    "\n",
    "display(taskDropdown)"
   ]
  },
  {
   "cell_type": "code",
   "execution_count": null,
   "id": "8cffbef3",
   "metadata": {
    "scrolled": false
   },
   "outputs": [],
   "source": [
    "def getTaskIdx(taskName, tasks):\n",
    "    taskIdx = [i for i,t in enumerate(tasks) if t.name == taskName]\n",
    "    assert len(taskIdx) == 1\n",
    "    return taskIdx[0]\n",
    "\n",
    "taskIdx = getTaskIdx(taskDropdown.value, tasks)\n",
    "\n",
    "_, _, sortedPropAndScores = createSimilarTasksDf(\n",
    "    tasks,\n",
    "    taskIdx,\n",
    "    helmholtzFrontiers, \n",
    "    properties,\n",
    "    helmholtzTasksPropertyMatrix, \n",
    "    propertyToPriorDistribution, \n",
    "    valuesToInt=valuesToInt,\n",
    "    onlyUseTrueProperties=True,\n",
    "    filterSimilarProperties=False, \n",
    "    maxFractionSame=None, \n",
    "    recomputeTasksWithTaskSpecificInputs=False, \n",
    "    computePriorFromTasks=True,\n",
    "    verbose=False)\n",
    "\n",
    "print(tasks[taskIdx].describe())\n",
    "\n",
    "fig, ax = plt.subplots()\n",
    "ax.barh([el[0].name for el in sortedPropAndScores], [1.0 / el[1] for el in sortedPropAndScores])\n",
    "ax.invert_yaxis()\n",
    "plt.show()"
   ]
  }
 ],
 "metadata": {
  "kernelspec": {
   "display_name": "Python 3 (ipykernel)",
   "language": "python",
   "name": "python3"
  },
  "language_info": {
   "codemirror_mode": {
    "name": "ipython",
    "version": 3
   },
   "file_extension": ".py",
   "mimetype": "text/x-python",
   "name": "python",
   "nbconvert_exporter": "python",
   "pygments_lexer": "ipython3",
   "version": "3.7.5"
  }
 },
 "nbformat": 4,
 "nbformat_minor": 5
}
