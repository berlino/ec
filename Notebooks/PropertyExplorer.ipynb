{
 "cells": [
  {
   "cell_type": "code",
   "execution_count": 1,
   "id": "0effca0f",
   "metadata": {},
   "outputs": [
    {
     "data": {
      "text/html": [
       "<script>\n",
       "    // AUTORUN ALL CELLS ON NOTEBOOK-LOAD!\n",
       "    require(\n",
       "        ['base/js/namespace', 'jquery'], \n",
       "        function(jupyter, $) {\n",
       "            $(jupyter.events).on(\"kernel_ready.Kernel\", function () {\n",
       "                console.log(\"Auto-running all cells-below...\");\n",
       "                jupyter.actions.call('jupyter-notebook:run-all-cells-below');\n",
       "                jupyter.actions.call('jupyter-notebook:save-notebook');\n",
       "            });\n",
       "        }\n",
       "    );\n",
       "</script>\n"
      ],
      "text/plain": [
       "<IPython.core.display.HTML object>"
      ]
     },
     "metadata": {},
     "output_type": "display_data"
    }
   ],
   "source": [
    "%%html\n",
    "<script>\n",
    "    // AUTORUN ALL CELLS ON NOTEBOOK-LOAD!\n",
    "    require(\n",
    "        ['base/js/namespace', 'jquery'], \n",
    "        function(jupyter, $) {\n",
    "            $(jupyter.events).on(\"kernel_ready.Kernel\", function () {\n",
    "                console.log(\"Auto-running all cells-below...\");\n",
    "                jupyter.actions.call('jupyter-notebook:run-all-cells-below');\n",
    "                jupyter.actions.call('jupyter-notebook:save-notebook');\n",
    "            });\n",
    "        }\n",
    "    );\n",
    "</script>"
   ]
  },
  {
   "cell_type": "code",
   "execution_count": 8,
   "id": "3b474d74",
   "metadata": {
    "scrolled": true
   },
   "outputs": [
    {
     "data": {
      "text/html": [
       "<script>\n",
       "code_show=true; \n",
       "function code_toggle() {\n",
       " if (code_show){\n",
       " $('div.input').hide();\n",
       " } else {\n",
       " $('div.input').show();\n",
       " }\n",
       " code_show = !code_show\n",
       "} \n",
       "$( document ).ready(code_toggle);\n",
       "</script>\n",
       "<form action=\"javascript:code_toggle();\"><input type=\"submit\" value=\"Click here to toggle on/off the raw code.\"></form>"
      ],
      "text/plain": [
       "<IPython.core.display.HTML object>"
      ]
     },
     "execution_count": 8,
     "metadata": {},
     "output_type": "execute_result"
    }
   ],
   "source": [
    "from IPython.display import HTML, Javascript, display\n",
    "from ipywidgets import widgets\n",
    "\n",
    "HTML('''<script>\n",
    "code_show=true; \n",
    "function code_toggle() {\n",
    " if (code_show){\n",
    " $('div.input').hide();\n",
    " } else {\n",
    " $('div.input').show();\n",
    " }\n",
    " code_show = !code_show\n",
    "} \n",
    "$( document ).ready(code_toggle);\n",
    "</script>\n",
    "<form action=\"javascript:code_toggle();\"><input type=\"submit\" value=\"Click here to toggle on/off the raw code.\"></form>''')"
   ]
  },
  {
   "cell_type": "code",
   "execution_count": 9,
   "id": "bebb7bfe",
   "metadata": {},
   "outputs": [],
   "source": [
    "%%capture\n",
    "cd .."
   ]
  },
  {
   "cell_type": "code",
   "execution_count": 10,
   "id": "8655f312",
   "metadata": {
    "scrolled": true
   },
   "outputs": [
    {
     "name": "stdout",
     "output_type": "stream",
     "text": [
      "The autoreload extension is already loaded. To reload it, use:\n",
      "  %reload_ext autoreload\n"
     ]
    },
    {
     "ename": "FileNotFoundError",
     "evalue": "[Errno 2] No such file or directory: 'data/final_wave'",
     "output_type": "error",
     "traceback": [
      "\u001b[0;31m---------------------------------------------------------------------------\u001b[0m",
      "\u001b[0;31mFileNotFoundError\u001b[0m                         Traceback (most recent call last)",
      "\u001b[0;32m/var/folders/pv/nwjrgvqs7gx68k7mwmfst2b00000gn/T/ipykernel_88218/501036505.py\u001b[0m in \u001b[0;36m<module>\u001b[0;34m\u001b[0m\n\u001b[1;32m     11\u001b[0m \u001b[0;34m\u001b[0m\u001b[0m\n\u001b[1;32m     12\u001b[0m \u001b[0;31m# Load relevant tasks, properties and helmholtz frontiers\u001b[0m\u001b[0;34m\u001b[0m\u001b[0;34m\u001b[0m\u001b[0;34m\u001b[0m\u001b[0m\n\u001b[0;32m---> 13\u001b[0;31m \u001b[0mtasks\u001b[0m \u001b[0;34m=\u001b[0m \u001b[0mjoshTasks\u001b[0m\u001b[0;34m(\u001b[0m\u001b[0;34m\"final\"\u001b[0m\u001b[0;34m)\u001b[0m\u001b[0;34m\u001b[0m\u001b[0;34m\u001b[0m\u001b[0m\n\u001b[0m\u001b[1;32m     14\u001b[0m \u001b[0mproperties\u001b[0m \u001b[0;34m=\u001b[0m \u001b[0mgetHandwrittenPropertiesFromTemplates\u001b[0m\u001b[0;34m(\u001b[0m\u001b[0mtasks\u001b[0m\u001b[0;34m,\u001b[0m \u001b[0mfilterEquivalent\u001b[0m\u001b[0;34m=\u001b[0m\u001b[0;32mFalse\u001b[0m\u001b[0;34m)\u001b[0m\u001b[0;34m\u001b[0m\u001b[0;34m\u001b[0m\u001b[0m\n\u001b[1;32m     15\u001b[0m \u001b[0mfileName\u001b[0m \u001b[0;34m=\u001b[0m \u001b[0;34m\"data/prop_sig/helmholtz_frontiers/josh_rich_enumerated_1/enumerated_0_10000.pkl\"\u001b[0m\u001b[0;34m\u001b[0m\u001b[0;34m\u001b[0m\u001b[0m\n",
      "\u001b[0;32m~/Development/program_induction/prop_sig/ec2/dreamcoder/domains/list/makeListTasks.py\u001b[0m in \u001b[0;36mjoshTasks\u001b[0;34m(w)\u001b[0m\n\u001b[1;32m     24\u001b[0m     \u001b[0;32melse\u001b[0m\u001b[0;34m:\u001b[0m\u001b[0;34m\u001b[0m\u001b[0;34m\u001b[0m\u001b[0m\n\u001b[1;32m     25\u001b[0m         \u001b[0;32massert\u001b[0m \u001b[0;32mFalse\u001b[0m\u001b[0;34m\u001b[0m\u001b[0;34m\u001b[0m\u001b[0m\n\u001b[0;32m---> 26\u001b[0;31m     \u001b[0;32mfor\u001b[0m \u001b[0mfn\u001b[0m \u001b[0;32min\u001b[0m \u001b[0mos\u001b[0m\u001b[0;34m.\u001b[0m\u001b[0mlistdir\u001b[0m\u001b[0;34m(\u001b[0m\u001b[0mdirectory\u001b[0m\u001b[0;34m)\u001b[0m\u001b[0;34m:\u001b[0m\u001b[0;34m\u001b[0m\u001b[0;34m\u001b[0m\u001b[0m\n\u001b[0m\u001b[1;32m     27\u001b[0m         \u001b[0;32mif\u001b[0m \u001b[0;32mnot\u001b[0m \u001b[0mfn\u001b[0m\u001b[0;34m.\u001b[0m\u001b[0mendswith\u001b[0m\u001b[0;34m(\u001b[0m\u001b[0;34m\".json\"\u001b[0m\u001b[0;34m)\u001b[0m\u001b[0;34m:\u001b[0m\u001b[0;32mcontinue\u001b[0m\u001b[0;34m\u001b[0m\u001b[0;34m\u001b[0m\u001b[0m\n\u001b[1;32m     28\u001b[0m \u001b[0;34m\u001b[0m\u001b[0m\n",
      "\u001b[0;31mFileNotFoundError\u001b[0m: [Errno 2] No such file or directory: 'data/final_wave'"
     ]
    }
   ],
   "source": [
    "%load_ext autoreload\n",
    "%autoreload 2\n",
    "\n",
    "import dill\n",
    "import matplotlib.pyplot as plt\n",
    "\n",
    "from dreamcoder.domains.list.handwrittenProperties import handWrittenProperties, getHandwrittenPropertiesFromTemplates\n",
    "from dreamcoder.domains.list.makeListTasks import joshTasks\n",
    "from dreamcoder.domains.list.propSim import getPropertySimTasksMatrix, getPriorDistributionsOfProperties, createSimilarTasksDf\n",
    "\n",
    "\n",
    "# Load relevant tasks, properties and helmholtz frontiers\n",
    "tasks = joshTasks(\"final\")\n",
    "properties = getHandwrittenPropertiesFromTemplates(tasks, filterEquivalent=False)\n",
    "fileName = \"data/prop_sig/helmholtz_frontiers/josh_rich_enumerated_1/enumerated_0_10000.pkl\"\n",
    "helmholtzFrontiers = dill.load(open(fileName, \"rb\"))[:100]\n",
    "valuesToInt = {\"allFalse\":0, \"allTrue\":1, \"mixed\":2}\n",
    "\n",
    "# Compute prior probabilities (over tasks) for property values\n",
    "taskPropertyMatrix = getPropertySimTasksMatrix(tasks, properties, valuesToInt)\n",
    "helmholtzTasksPropertyMatrix = getPropertySimTasksMatrix([f.task for f in helmholtzFrontiers], properties, valuesToInt)\n",
    "propertyToPriorDistribution = getPriorDistributionsOfProperties(properties, taskPropertyMatrix, valuesToInt)"
   ]
  },
  {
   "cell_type": "code",
   "execution_count": null,
   "id": "d1439d40",
   "metadata": {
    "scrolled": true
   },
   "outputs": [],
   "source": [
    "taskDropdown = widgets.Dropdown(\n",
    "    options=[t.name for t in tasks],\n",
    "    value=tasks[0].name,\n",
    "    description='Task:',\n",
    "    disabled=False,\n",
    ")\n",
    "\n",
    "def run_all(ev):\n",
    "    display(Javascript('IPython.notebook.execute_cell_range(IPython.notebook.get_selected_index()+1,IPython.notebook.get_selected_index()+2)'))\n",
    "taskDropdown.observe(run_all, names=\"value\")\n",
    "\n",
    "display(taskDropdown)"
   ]
  },
  {
   "cell_type": "code",
   "execution_count": 12,
   "id": "8cffbef3",
   "metadata": {
    "scrolled": false
   },
   "outputs": [
    {
     "name": "stdout",
     "output_type": "stream",
     "text": [
      "010_1 : list(int) -> list(int)\n",
      "f([97, 7, 13, 2, 55]) = [13, 55, 97]\n",
      "f([18, 35, 7, 70, 96, 74, 37, 45]) = [70, 74, 96]\n",
      "f([45, 92, 5, 40, 3, 78, 81, 50, 4, 76]) = [78, 81, 92]\n",
      "f([85, 89, 8, 7, 9, 44, 30, 68, 69]) = [69, 85, 89]\n",
      "f([57, 15, 51, 31, 33, 61, 6]) = [51, 57, 61]\n",
      "f([95, 21, 5, 1, 53, 24]) = [24, 53, 95]\n",
      "f([1, 9, 88, 8, 64, 30, 6, 87]) = [64, 87, 88]\n",
      "f([80, 22, 7, 4, 47, 5, 39]) = [39, 47, 80]\n",
      "f([34, 16, 0, 3]) = [3, 16, 34]\n",
      "f([59, 72, 98, 6, 20, 0, 58, 3, 25, 56]) = [59, 72, 98]\n",
      "f([94, 83, 9, 54, 12, 4, 28, 49, 6]) = [54, 83, 94]\n"
     ]
    },
    {
     "data": {
      "image/png": "[encoded data removed]",
      "text/plain": [
       "<Figure size 432x288 with 1 Axes>"
      ]
     },
     "metadata": {
      "needs_background": "light"
     },
     "output_type": "display_data"
    }
   ],
   "source": [
    "def getTaskIdx(taskName, tasks):\n",
    "    taskIdx = [i for i,t in enumerate(tasks) if t.name == taskName]\n",
    "    assert len(taskIdx) == 1\n",
    "    return taskIdx[0]\n",
    "\n",
    "taskIdx = getTaskIdx(taskDropdown.value, tasks)\n",
    "\n",
    "_, _, sortedPropAndScores = createSimilarTasksDf(\n",
    "    tasks,\n",
    "    taskIdx,\n",
    "    helmholtzFrontiers, \n",
    "    properties,\n",
    "    helmholtzTasksPropertyMatrix, \n",
    "    propertyToPriorDistribution, \n",
    "    valuesToInt=valuesToInt,\n",
    "    onlyUseTrueProperties=True,\n",
    "    filterSimilarProperties=False, \n",
    "    maxFractionSame=None, \n",
    "    recomputeTasksWithTaskSpecificInputs=False, \n",
    "    computePriorFromTasks=True,\n",
    "    verbose=False)\n",
    "\n",
    "print(tasks[taskIdx].describe())\n",
    "\n",
    "fig, ax = plt.subplots()\n",
    "ax.barh([el[0].name for el in sortedPropAndScores], [1.0 / el[1] for el in sortedPropAndScores])\n",
    "ax.invert_yaxis()\n",
    "plt.show()"
   ]
  }
 ],
 "metadata": {
  "kernelspec": {
   "display_name": "Python 3 (ipykernel)",
   "language": "python",
   "name": "python3"
  },
  "language_info": {
   "codemirror_mode": {
    "name": "ipython",
    "version": 3
   },
   "file_extension": ".py",
   "mimetype": "text/x-python",
   "name": "python",
   "nbconvert_exporter": "python",
   "pygments_lexer": "ipython3",
   "version": "3.7.5"
  }
 },
 "nbformat": 4,
 "nbformat_minor": 5
}
